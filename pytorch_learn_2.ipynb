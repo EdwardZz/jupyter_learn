{
 "cells": [
  {
   "cell_type": "markdown",
   "metadata": {},
   "source": [
    "# 批训练"
   ]
  },
  {
   "cell_type": "code",
   "execution_count": 4,
   "metadata": {},
   "outputs": [
    {
     "name": "stdout",
     "output_type": "stream",
     "text": [
      "('Epoch:', 0, '| Step:', 0, '| batch_x:', array([1., 9., 3., 2., 6.]), '| batch_y:', array([10.,  2.,  8.,  9.,  5.]))\n",
      "('Epoch:', 0, '| Step:', 1, '| batch_x:', array([ 4., 10.,  8.,  7.,  5.]), '| batch_y:', array([7., 1., 3., 4., 6.]))\n",
      "('Epoch:', 1, '| Step:', 0, '| batch_x:', array([9., 1., 5., 8., 4.]), '| batch_y:', array([ 2., 10.,  6.,  3.,  7.]))\n",
      "('Epoch:', 1, '| Step:', 1, '| batch_x:', array([ 2.,  6.,  7., 10.,  3.]), '| batch_y:', array([9., 5., 4., 1., 8.]))\n",
      "('Epoch:', 2, '| Step:', 0, '| batch_x:', array([9., 3., 8., 6., 2.]), '| batch_y:', array([2., 8., 3., 5., 9.]))\n",
      "('Epoch:', 2, '| Step:', 1, '| batch_x:', array([ 7.,  1.,  5., 10.,  4.]), '| batch_y:', array([ 4., 10.,  6.,  1.,  7.]))\n"
     ]
    }
   ],
   "source": [
    "import torch\n",
    "import torch.utils.data as Data\n",
    "\n",
    "BATCH_SIZE = 5\n",
    "\n",
    "x = torch.linspace(1,10,10)\n",
    "y = torch.linspace(10,1,10)\n",
    "\n",
    "torch_dataset = Data.TensorDataset(data_tensor=x,target_tensor=y)\n",
    "loader = Data.DataLoader(\n",
    "            dataset=torch_dataset,\n",
    "            batch_size=BATCH_SIZE,\n",
    "            shuffle=True,# set this variable will disrupt the order of data in each batch of training\n",
    "            num_workers=2\n",
    ")\n",
    "\n",
    "for  epoch in range(3):\n",
    "    for step, (batch_x,batch_y) in enumerate(loader):  #enumerate  set the step as 1,2.3...\n",
    "        # training\n",
    "        print('Epoch:',epoch,'| Step:',step,'| batch_x:',batch_x.numpy(),'| batch_y:',batch_y.numpy())"
   ]
  }
 ],
 "metadata": {
  "kernelspec": {
   "display_name": "Python 2",
   "language": "python",
   "name": "python2"
  },
  "language_info": {
   "codemirror_mode": {
    "name": "ipython",
    "version": 2
   },
   "file_extension": ".py",
   "mimetype": "text/x-python",
   "name": "python",
   "nbconvert_exporter": "python",
   "pygments_lexer": "ipython2",
   "version": "2.7.12"
  }
 },
 "nbformat": 4,
 "nbformat_minor": 2
}
