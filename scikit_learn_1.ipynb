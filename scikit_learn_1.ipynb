{
 "cells": [
  {
   "cell_type": "code",
   "execution_count": 3,
   "metadata": {
    "scrolled": true
   },
   "outputs": [
    {
     "name": "stdout",
     "output_type": "stream",
     "text": [
      "[[5.1 3.5 1.4 0.2]\n",
      " [4.9 3.  1.4 0.2]]\n",
      "[0 0 0 0 0 0 0 0 0 0 0 0 0 0 0 0 0 0 0 0 0 0 0 0 0 0 0 0 0 0 0 0 0 0 0 0 0\n",
      " 0 0 0 0 0 0 0 0 0 0 0 0 0 1 1 1 1 1 1 1 1 1 1 1 1 1 1 1 1 1 1 1 1 1 1 1 1\n",
      " 1 1 1 1 1 1 1 1 1 1 1 1 1 1 1 1 1 1 1 1 1 1 1 1 1 1 2 2 2 2 2 2 2 2 2 2 2\n",
      " 2 2 2 2 2 2 2 2 2 2 2 2 2 2 2 2 2 2 2 2 2 2 2 2 2 2 2 2 2 2 2 2 2 2 2 2 2\n",
      " 2 2]\n"
     ]
    }
   ],
   "source": [
    "import scipy\n",
    "import numpy as np\n",
    "from sklearn import datasets\n",
    "from sklearn.cross_validation import train_test_split\n",
    "from sklearn.neighbors import KNeighborsClassifier\n",
    "\n",
    "iris = datasets.load_iris()\n",
    "iris_X = iris.data\n",
    "iris_Y = iris.target\n",
    "\n",
    "print(iris_X[:2,:])\n",
    "print(iris_Y)"
   ]
  },
  {
   "cell_type": "markdown",
   "metadata": {},
   "source": [
    "上面代码完成了数据的加载，并且得到了数据集iris_X，以及其类别iris_Y（可以看出类别有三种）"
   ]
  },
  {
   "cell_type": "code",
   "execution_count": 2,
   "metadata": {},
   "outputs": [],
   "source": [
    "X_train,X_test,Y_train,Y_test = train_test_split(iris_X,iris_Y,test_size=0.3)"
   ]
  },
  {
   "cell_type": "code",
   "execution_count": 8,
   "metadata": {},
   "outputs": [
    {
     "data": {
      "text/plain": [
       "(array([1, 0, 2, 2, 2, 1, 0, 2, 1, 0, 1, 0, 1, 0, 1, 0, 0, 1, 0, 0, 2, 1,\n",
       "        2, 2, 0, 0, 2, 0, 0, 0, 0, 0, 2, 0, 2, 0, 0, 2, 1, 0, 1, 2, 1, 0,\n",
       "        2, 2, 0, 0, 2, 1, 1, 1, 0, 1, 0, 1, 0, 2, 2, 2, 1, 1, 2, 0, 1, 1,\n",
       "        2, 1, 1, 2, 0, 0, 0, 2, 0, 2, 2, 1, 2, 0, 0, 1, 1, 2, 1, 2, 1, 2,\n",
       "        1, 2, 0, 1, 1, 1, 0, 0, 1, 2, 2, 2, 2, 2, 0, 2, 2]),\n",
       " array([0, 1, 1, 1, 0, 2, 0, 2, 1, 2, 2, 0, 0, 1, 0, 0, 1, 0, 1, 2, 2, 1,\n",
       "        0, 0, 1, 1, 1, 2, 2, 0, 1, 1, 2, 0, 1, 2, 2, 1, 2, 2, 1, 1, 0, 1,\n",
       "        2]))"
      ]
     },
     "execution_count": 8,
     "metadata": {},
     "output_type": "execute_result"
    }
   ],
   "source": [
    "Y_train,Y_test"
   ]
  },
  {
   "cell_type": "markdown",
   "metadata": {},
   "source": [
    "这步操作打乱了数据的顺序，使其更贴近于真实情况的数据"
   ]
  },
  {
   "cell_type": "code",
   "execution_count": 11,
   "metadata": {},
   "outputs": [
    {
     "name": "stdout",
     "output_type": "stream",
     "text": [
      "[0 1 1 1 0 2 0 2 1 2 1 0 0 1 0 0 1 0 1 2 2 1 0 0 1 1 1 2 2 0 1 1 2 0 1 1 2\n",
      " 1 2 2 1 1 0 1 2]\n",
      "[0 1 1 1 0 2 0 2 1 2 2 0 0 1 0 0 1 0 1 2 2 1 0 0 1 1 1 2 2 0 1 1 2 0 1 2 2\n",
      " 1 2 2 1 1 0 1 2]\n"
     ]
    }
   ],
   "source": [
    "knn = KNeighborsClassifier()\n",
    "knn.fit(X_train,Y_train)\n",
    "print(knn.predict(X_test))\n",
    "print(Y_test)"
   ]
  },
  {
   "cell_type": "markdown",
   "metadata": {},
   "source": [
    "上面代码展示了knn函数的工作过程，分为train和test两步，从结果中可以看出结果预测还是有错误情况"
   ]
  }
 ],
 "metadata": {
  "kernelspec": {
   "display_name": "Python 2",
   "language": "python",
   "name": "python2"
  },
  "language_info": {
   "codemirror_mode": {
    "name": "ipython",
    "version": 2
   },
   "file_extension": ".py",
   "mimetype": "text/x-python",
   "name": "python",
   "nbconvert_exporter": "python",
   "pygments_lexer": "ipython2",
   "version": "2.7.12"
  }
 },
 "nbformat": 4,
 "nbformat_minor": 2
}
