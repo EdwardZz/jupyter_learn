{
 "cells": [
  {
   "cell_type": "code",
   "execution_count": 3,
   "metadata": {},
   "outputs": [
    {
     "ename": "SyntaxError",
     "evalue": "invalid syntax (<ipython-input-3-f7b4b08b5339>, line 12)",
     "output_type": "error",
     "traceback": [
      "\u001b[0;36m  File \u001b[0;32m\"<ipython-input-3-f7b4b08b5339>\"\u001b[0;36m, line \u001b[0;32m12\u001b[0m\n\u001b[0;31m    x,y=V(x),V(y)\u001b[0m\n\u001b[0m    ^\u001b[0m\n\u001b[0;31mSyntaxError\u001b[0m\u001b[0;31m:\u001b[0m invalid syntax\n"
     ]
    }
   ],
   "source": [
    "\n",
    "%matplotlib inline\n",
    "#Program : this is made for regression study\n",
    "#History : 2018-3-11    zhuyongjie\n",
    "import torch\n",
    "from torch.autograd import Variable as V\n",
    "import torch.nn.functional as F\n",
    "import matplotlib.pyplot as plt\n",
    "\n",
    "x = torch.unsqueeze(torch.linspace(-1,1,100),dim=1)\n",
    "y = x.pow(2) + 0.2*torch.rand(x.size()\n",
    "x,y=V(x),V(y)\n",
    "\n",
    "#plt.scatter(x.data.numpy(),y.data.numpy())\n",
    "#plt.show()\n",
    "\n",
    "class Net(torch.nn.Module):\n",
    "        def __init__(self,n_features,n_hidden,n_output):\n",
    "                super(Net,self).__init__()\n",
    "                self.hidden = torch.nn.Linear(n_features,n_hidden)\n",
    "                self.predict = torch.nn.Linear(n_hidden,n_output)\n",
    "        def forward(self,x):\n",
    "                x = F.relu(self.hidden(x))\n",
    "                x = self.predict(x)\n",
    "                return x\n",
    "net = Net(1,10,1)\n",
    "print(net)\n",
    "\n",
    "plt.ion()\n",
    "plt.show()\n",
    "\n",
    "optimizer = torch.optim.SGD(net.parameters(),lr=0.5)\n",
    "loss_func = torch.nn.MSELoss()\n",
    "\n",
    "for t in range(100):\n",
    "        prediction = net(x)\n",
    "        loss = loss_func(prediction,y)\n",
    "\n",
    "        optimizer.zero_grad()\n",
    "        loss.backward()\n",
    "        optimizer.step()\n",
    "        if t%5 ==0:\n",
    "                #plot and show learning process\n",
    "                plt.cla()\n",
    "                plt.scatter(x.data.numpy(),y.data.numpy())\n",
    "                plt.plot(x.data.numpy(),prediction.data.numpy(),'r-',lw=5)\n",
    "                plt.text(0.5,0,'loss=%.4f' % loss.data[0],fontdict={'size':20,'color':'red'})\n",
    "                plt.pause(0.1)\n",
    "plt.ioff()\n",
    "plt.show()\n"
   ]
  },
  {
   "cell_type": "markdown",
   "metadata": {},
   "source": [
    "这是我的第一次jupyter文档尝试"
   ]
  },
  {
   "cell_type": "code",
   "execution_count": 3,
   "metadata": {},
   "outputs": [
    {
     "name": "stdout",
     "output_type": "stream",
     "text": [
      "你好\n"
     ]
    }
   ],
   "source": [
    "print('你好')"
   ]
  }
 ],
 "metadata": {
  "kernelspec": {
   "display_name": "Python 2",
   "language": "python",
   "name": "python2"
  },
  "language_info": {
   "codemirror_mode": {
    "name": "ipython",
    "version": 2
   },
   "file_extension": ".py",
   "mimetype": "text/x-python",
   "name": "python",
   "nbconvert_exporter": "python",
   "pygments_lexer": "ipython2",
   "version": "2.7.12"
  }
 },
 "nbformat": 4,
 "nbformat_minor": 2
}
